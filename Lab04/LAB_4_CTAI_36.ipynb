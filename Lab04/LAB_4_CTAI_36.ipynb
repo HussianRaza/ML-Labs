{
  "metadata": {
    "kernelspec": {
      "language": "python",
      "display_name": "Python 3",
      "name": "python3"
    },
    "language_info": {
      "name": "python",
      "version": "3.7.12",
      "mimetype": "text/x-python",
      "codemirror_mode": {
        "name": "ipython",
        "version": 3
      },
      "pygments_lexer": "ipython3",
      "nbconvert_exporter": "python",
      "file_extension": ".py"
    },
    "kaggle": {
      "accelerator": "none",
      "dataSources": [
        {
          "sourceId": 3960552,
          "sourceType": "datasetVersion",
          "datasetId": 2350614
        }
      ],
      "dockerImageVersionId": 30207,
      "isInternetEnabled": true,
      "language": "python",
      "sourceType": "notebook",
      "isGpuEnabled": false
    },
    "colab": {
      "provenance": []
    }
  },
  "nbformat_minor": 0,
  "nbformat": 4,
  "cells": [
    {
      "cell_type": "code",
      "source": [
        "# Importing the libraries\n",
        "\n",
        "import numpy as np\n",
        "import matplotlib.pyplot as plt\n",
        "import pandas as pd\n",
        "import seaborn as sns\n",
        "from sklearn.metrics import accuracy_score, confusion_matrix, classification_report\n"
      ],
      "metadata": {
        "execution": {
          "iopub.status.busy": "2025-02-10T18:59:37.766207Z",
          "iopub.execute_input": "2025-02-10T18:59:37.766623Z",
          "iopub.status.idle": "2025-02-10T18:59:37.772387Z",
          "shell.execute_reply.started": "2025-02-10T18:59:37.766592Z",
          "shell.execute_reply": "2025-02-10T18:59:37.771137Z"
        },
        "trusted": true,
        "id": "JgLWj14rT99p"
      },
      "outputs": [],
      "execution_count": null
    },
    {
      "cell_type": "code",
      "source": [
        "# Importing the dataset\n",
        "\n",
        "df = pd.read_csv('/content/User_Data.csv')"
      ],
      "metadata": {
        "execution": {
          "iopub.status.busy": "2025-02-10T18:59:37.774826Z",
          "iopub.execute_input": "2025-02-10T18:59:37.775311Z",
          "iopub.status.idle": "2025-02-10T18:59:37.797447Z",
          "shell.execute_reply.started": "2025-02-10T18:59:37.775268Z",
          "shell.execute_reply": "2025-02-10T18:59:37.795957Z"
        },
        "trusted": true,
        "id": "ccbBDWcDT99s"
      },
      "outputs": [],
      "execution_count": null
    },
    {
      "cell_type": "code",
      "source": [
        "#viewing the dataset\n",
        "df"
      ],
      "metadata": {
        "execution": {
          "iopub.status.busy": "2025-02-10T18:59:37.800077Z",
          "iopub.execute_input": "2025-02-10T18:59:37.801256Z",
          "iopub.status.idle": "2025-02-10T18:59:37.819420Z",
          "shell.execute_reply.started": "2025-02-10T18:59:37.801210Z",
          "shell.execute_reply": "2025-02-10T18:59:37.817952Z"
        },
        "trusted": true,
        "id": "F4fQf34cT99u",
        "outputId": "29a5a74c-a633-44a0-f3b6-273010ca46f0"
      },
      "outputs": [
        {
          "execution_count": 89,
          "output_type": "execute_result",
          "data": {
            "text/plain": "      User ID  Gender  Age  EstimatedSalary  Purchased\n0    15624510    Male   19            19000          0\n1    15810944    Male   35            20000          0\n2    15668575  Female   26            43000          0\n3    15603246  Female   27            57000          0\n4    15804002    Male   19            76000          0\n..        ...     ...  ...              ...        ...\n395  15691863  Female   46            41000          1\n396  15706071    Male   51            23000          1\n397  15654296  Female   50            20000          1\n398  15755018    Male   36            33000          0\n399  15594041  Female   49            36000          1\n\n[400 rows x 5 columns]",
            "text/html": "<div>\n<style scoped>\n    .dataframe tbody tr th:only-of-type {\n        vertical-align: middle;\n    }\n\n    .dataframe tbody tr th {\n        vertical-align: top;\n    }\n\n    .dataframe thead th {\n        text-align: right;\n    }\n</style>\n<table border=\"1\" class=\"dataframe\">\n  <thead>\n    <tr style=\"text-align: right;\">\n      <th></th>\n      <th>User ID</th>\n      <th>Gender</th>\n      <th>Age</th>\n      <th>EstimatedSalary</th>\n      <th>Purchased</th>\n    </tr>\n  </thead>\n  <tbody>\n    <tr>\n      <th>0</th>\n      <td>15624510</td>\n      <td>Male</td>\n      <td>19</td>\n      <td>19000</td>\n      <td>0</td>\n    </tr>\n    <tr>\n      <th>1</th>\n      <td>15810944</td>\n      <td>Male</td>\n      <td>35</td>\n      <td>20000</td>\n      <td>0</td>\n    </tr>\n    <tr>\n      <th>2</th>\n      <td>15668575</td>\n      <td>Female</td>\n      <td>26</td>\n      <td>43000</td>\n      <td>0</td>\n    </tr>\n    <tr>\n      <th>3</th>\n      <td>15603246</td>\n      <td>Female</td>\n      <td>27</td>\n      <td>57000</td>\n      <td>0</td>\n    </tr>\n    <tr>\n      <th>4</th>\n      <td>15804002</td>\n      <td>Male</td>\n      <td>19</td>\n      <td>76000</td>\n      <td>0</td>\n    </tr>\n    <tr>\n      <th>...</th>\n      <td>...</td>\n      <td>...</td>\n      <td>...</td>\n      <td>...</td>\n      <td>...</td>\n    </tr>\n    <tr>\n      <th>395</th>\n      <td>15691863</td>\n      <td>Female</td>\n      <td>46</td>\n      <td>41000</td>\n      <td>1</td>\n    </tr>\n    <tr>\n      <th>396</th>\n      <td>15706071</td>\n      <td>Male</td>\n      <td>51</td>\n      <td>23000</td>\n      <td>1</td>\n    </tr>\n    <tr>\n      <th>397</th>\n      <td>15654296</td>\n      <td>Female</td>\n      <td>50</td>\n      <td>20000</td>\n      <td>1</td>\n    </tr>\n    <tr>\n      <th>398</th>\n      <td>15755018</td>\n      <td>Male</td>\n      <td>36</td>\n      <td>33000</td>\n      <td>0</td>\n    </tr>\n    <tr>\n      <th>399</th>\n      <td>15594041</td>\n      <td>Female</td>\n      <td>49</td>\n      <td>36000</td>\n      <td>1</td>\n    </tr>\n  </tbody>\n</table>\n<p>400 rows × 5 columns</p>\n</div>"
          },
          "metadata": {}
        }
      ],
      "execution_count": null
    },
    {
      "cell_type": "code",
      "source": [
        "df.isnull().sum()"
      ],
      "metadata": {
        "execution": {
          "iopub.status.busy": "2025-02-10T18:59:37.821448Z",
          "iopub.execute_input": "2025-02-10T18:59:37.821937Z",
          "iopub.status.idle": "2025-02-10T18:59:37.837725Z",
          "shell.execute_reply.started": "2025-02-10T18:59:37.821904Z",
          "shell.execute_reply": "2025-02-10T18:59:37.836299Z"
        },
        "trusted": true,
        "id": "7ld8CCsfT99x",
        "outputId": "9de7a80d-8a1f-480a-a8a8-d2437a985eb0"
      },
      "outputs": [
        {
          "execution_count": 90,
          "output_type": "execute_result",
          "data": {
            "text/plain": "User ID            0\nGender             0\nAge                0\nEstimatedSalary    0\nPurchased          0\ndtype: int64"
          },
          "metadata": {}
        }
      ],
      "execution_count": null
    },
    {
      "cell_type": "code",
      "source": [
        "X = df.iloc[:, [2,3]].values\n",
        "Y = df.iloc[:, 4].values"
      ],
      "metadata": {
        "execution": {
          "iopub.status.busy": "2025-02-10T18:59:37.839439Z",
          "iopub.execute_input": "2025-02-10T18:59:37.839874Z",
          "iopub.status.idle": "2025-02-10T18:59:37.851836Z",
          "shell.execute_reply.started": "2025-02-10T18:59:37.839841Z",
          "shell.execute_reply": "2025-02-10T18:59:37.850258Z"
        },
        "trusted": true,
        "id": "ni9q5yZZT99y"
      },
      "outputs": [],
      "execution_count": null
    },
    {
      "cell_type": "code",
      "source": [
        "# Splitting the dataset into the Training set and Test set\n",
        "\n",
        "from sklearn.model_selection import train_test_split\n",
        "X_Train, X_Test, Y_Train, Y_Test = train_test_split(X, Y, test_size = 0.25, random_state = 0)"
      ],
      "metadata": {
        "execution": {
          "iopub.status.busy": "2025-02-10T18:59:37.854794Z",
          "iopub.execute_input": "2025-02-10T18:59:37.855260Z",
          "iopub.status.idle": "2025-02-10T18:59:37.866884Z",
          "shell.execute_reply.started": "2025-02-10T18:59:37.855210Z",
          "shell.execute_reply": "2025-02-10T18:59:37.865333Z"
        },
        "trusted": true,
        "id": "KXM9T9U7T99z"
      },
      "outputs": [],
      "execution_count": null
    },
    {
      "cell_type": "code",
      "source": [
        "# Feature Scaling\n",
        "\n",
        "from sklearn.preprocessing import StandardScaler\n",
        "sc_X = StandardScaler()\n",
        "X_Train = sc_X.fit_transform(X_Train)\n",
        "X_Test = sc_X.transform(X_Test)"
      ],
      "metadata": {
        "execution": {
          "iopub.status.busy": "2025-02-10T18:59:37.868542Z",
          "iopub.execute_input": "2025-02-10T18:59:37.868985Z",
          "iopub.status.idle": "2025-02-10T18:59:37.880940Z",
          "shell.execute_reply.started": "2025-02-10T18:59:37.868940Z",
          "shell.execute_reply": "2025-02-10T18:59:37.879659Z"
        },
        "trusted": true,
        "id": "fiVmeNEIT990"
      },
      "outputs": [],
      "execution_count": null
    },
    {
      "cell_type": "code",
      "source": [
        "# Fitting the Logistic Regression into the Training set\n",
        "\n",
        "from sklearn.linear_model import LogisticRegression\n",
        "classifier = LogisticRegression(random_state = 0)\n",
        "classifier.fit(X_Train, Y_Train)"
      ],
      "metadata": {
        "execution": {
          "iopub.status.busy": "2025-02-10T18:59:37.882671Z",
          "iopub.execute_input": "2025-02-10T18:59:37.883101Z",
          "iopub.status.idle": "2025-02-10T18:59:37.900009Z",
          "shell.execute_reply.started": "2025-02-10T18:59:37.883066Z",
          "shell.execute_reply": "2025-02-10T18:59:37.898286Z"
        },
        "trusted": true,
        "id": "bXe25LX9T992",
        "outputId": "ed52df70-915b-4cad-e526-e7c4d444c496"
      },
      "outputs": [
        {
          "execution_count": 94,
          "output_type": "execute_result",
          "data": {
            "text/plain": "LogisticRegression(random_state=0)"
          },
          "metadata": {}
        }
      ],
      "execution_count": null
    },
    {
      "cell_type": "code",
      "source": [
        "# Predicting the test set results\n",
        "\n",
        "Y_Pred = classifier.predict(X_Test)\n",
        "Y_Pred"
      ],
      "metadata": {
        "execution": {
          "iopub.status.busy": "2025-02-10T18:59:37.901538Z",
          "iopub.execute_input": "2025-02-10T18:59:37.901921Z",
          "iopub.status.idle": "2025-02-10T18:59:37.932136Z",
          "shell.execute_reply.started": "2025-02-10T18:59:37.901888Z",
          "shell.execute_reply": "2025-02-10T18:59:37.930963Z"
        },
        "trusted": true,
        "id": "YgncHZuET994",
        "outputId": "14c3b98c-4431-4017-de39-8baeec41da3a"
      },
      "outputs": [
        {
          "execution_count": 95,
          "output_type": "execute_result",
          "data": {
            "text/plain": "array([0, 0, 0, 0, 0, 0, 0, 1, 0, 1, 0, 0, 0, 0, 0, 0, 0, 0, 1, 0, 0, 1,\n       0, 1, 0, 1, 0, 0, 0, 0, 0, 0, 1, 0, 0, 0, 0, 0, 0, 1, 0, 0, 0, 0,\n       1, 0, 0, 1, 0, 1, 1, 0, 0, 0, 1, 0, 0, 0, 0, 0, 0, 1, 0, 0, 0, 1,\n       0, 0, 0, 0, 1, 0, 0, 0, 0, 0, 1, 0, 1, 1, 1, 1, 0, 0, 1, 1, 0, 1,\n       0, 0, 0, 1, 0, 0, 0, 0, 0, 0, 1, 1])"
          },
          "metadata": {}
        }
      ],
      "execution_count": null
    },
    {
      "cell_type": "code",
      "source": [
        "# Sigmoid function\n",
        "def sigmoid(z):\n",
        "    return 1 / (1 + np.exp(-z))\n",
        "\n",
        "# Cost function\n",
        "def cost_function(x, y, w, b):\n",
        "    m = len(y)\n",
        "    z = np.dot(x, w) + b\n",
        "    h = sigmoid(z)\n",
        "    cost = (-1 / m) * np.sum(y * np.log(h) + (1 - y) * np.log(1 - h))\n",
        "    return cost\n",
        "\n",
        "# Gradient descent function\n",
        "def gradient_descent(x, y, w, b, alpha, epochs):\n",
        "    m = len(y)\n",
        "    cost_history = []\n",
        "    for _ in range(epochs):\n",
        "        z = np.dot(x, w) + b\n",
        "        h = sigmoid(z)\n",
        "        dw = (1 / m) * np.dot(x.T, (h - y))\n",
        "        db = (1 / m) * np.sum(h - y)\n",
        "        w -= alpha * dw\n",
        "        b -= alpha * db\n",
        "        cost = cost_function(x, y, w, b)\n",
        "        cost_history.append(cost)\n",
        "    return w, b, cost_history\n",
        "\n",
        "# Initialize parameters\n",
        "w = np.zeros(X_Train.shape[1])\n",
        "b = 0\n",
        "alpha = 0.1  # Increased learning rate for better convergence\n",
        "epochs = 5000  # Increased iterations for better optimization\n",
        "\n",
        "# Train model using gradient descent\n",
        "w, b, cost_history = gradient_descent(X_Train, Y_Train, w, b, alpha, epochs)"
      ],
      "metadata": {
        "trusted": true,
        "execution": {
          "iopub.status.busy": "2025-02-10T18:59:37.935421Z",
          "iopub.execute_input": "2025-02-10T18:59:37.936359Z",
          "iopub.status.idle": "2025-02-10T18:59:38.282081Z",
          "shell.execute_reply.started": "2025-02-10T18:59:37.936316Z",
          "shell.execute_reply": "2025-02-10T18:59:38.280863Z"
        },
        "id": "SBLYR4fdT995"
      },
      "outputs": [],
      "execution_count": null
    },
    {
      "cell_type": "code",
      "source": [
        "def predict(x, w, b):\n",
        "    return sigmoid(np.dot(x, w) + b) >= 0.5\n",
        "\n",
        "y_pred = predict(X_Test, w, b)\n",
        "print(\"Accuracy score=\", \"{:.2f}\".format(accuracy_score(Y_Test, y_pred) * 100))\n",
        "print(\"Confusion matrix=\\n\", confusion_matrix(Y_Test, y_pred))\n",
        "print(\"Classification report=\\n\", classification_report(Y_Test, y_pred))"
      ],
      "metadata": {
        "trusted": true,
        "execution": {
          "iopub.status.busy": "2025-02-10T18:59:38.283589Z",
          "iopub.execute_input": "2025-02-10T18:59:38.284029Z",
          "iopub.status.idle": "2025-02-10T18:59:38.300122Z",
          "shell.execute_reply.started": "2025-02-10T18:59:38.283986Z",
          "shell.execute_reply": "2025-02-10T18:59:38.298987Z"
        },
        "id": "x91gs4qfT996",
        "outputId": "c2f6cdc5-698a-4977-e450-132f0ae411e7"
      },
      "outputs": [
        {
          "name": "stdout",
          "text": "Accuracy score= 89.00\nConfusion matrix=\n [[65  3]\n [ 8 24]]\nClassification report=\n               precision    recall  f1-score   support\n\n           0       0.89      0.96      0.92        68\n           1       0.89      0.75      0.81        32\n\n    accuracy                           0.89       100\n   macro avg       0.89      0.85      0.87       100\nweighted avg       0.89      0.89      0.89       100\n\n",
          "output_type": "stream"
        }
      ],
      "execution_count": null
    },
    {
      "cell_type": "code",
      "source": [
        "plt.plot(range(len(cost_history)), cost_history, label=\"Cost Function\")\n",
        "plt.xlabel(\"Iterations\")\n",
        "plt.ylabel(\"Cost\")\n",
        "plt.title(\"Cost Function Convergence\")\n",
        "plt.legend()\n",
        "plt.show()\n",
        "\n"
      ],
      "metadata": {
        "trusted": true,
        "execution": {
          "iopub.status.busy": "2025-02-10T18:59:38.301604Z",
          "iopub.execute_input": "2025-02-10T18:59:38.302375Z",
          "iopub.status.idle": "2025-02-10T18:59:38.456142Z",
          "shell.execute_reply.started": "2025-02-10T18:59:38.302331Z",
          "shell.execute_reply": "2025-02-10T18:59:38.455084Z"
        },
        "id": "U2adSzxCT997",
        "outputId": "72f78690-b729-4dc7-9ae1-8962fabc463a"
      },
      "outputs": [
        {
          "output_type": "display_data",
          "data": {
            "text/plain": "<Figure size 432x288 with 1 Axes>",
            "image/png": "[encoded data removed]"
          },
          "metadata": {
            "needs_background": "light"
          }
        }
      ],
      "execution_count": null
    },
    {
      "cell_type": "code",
      "source": [
        "plt.figure(figsize=(10, 8))\n",
        "sns.heatmap(pd.DataFrame(X_Train).corr(), annot=True, fmt='.2f', linewidths=0.5)\n",
        "plt.title(\"Feature Correlation Heatmap\")\n",
        "plt.show()"
      ],
      "metadata": {
        "trusted": true,
        "execution": {
          "iopub.status.busy": "2025-02-10T18:59:38.457716Z",
          "iopub.execute_input": "2025-02-10T18:59:38.458184Z",
          "iopub.status.idle": "2025-02-10T18:59:38.715825Z",
          "shell.execute_reply.started": "2025-02-10T18:59:38.458121Z",
          "shell.execute_reply": "2025-02-10T18:59:38.714567Z"
        },
        "id": "UCVX_gLET997",
        "outputId": "ffeb634c-9d3d-4b32-91ad-7c4a3f2035c5"
      },
      "outputs": [
        {
          "output_type": "display_data",
          "data": {
            "text/plain": "<Figure size 720x576 with 2 Axes>",
            "image/png": "[encoded data removed]"
          },
          "metadata": {
            "needs_background": "light"
          }
        }
      ],
      "execution_count": null
    },
    {
      "cell_type": "code",
      "source": [
        "# Making the Confusion Matrix\n",
        "\n",
        "from sklearn.metrics import confusion_matrix\n",
        "cm = confusion_matrix(Y_Test, Y_Pred)\n",
        "cm"
      ],
      "metadata": {
        "execution": {
          "iopub.status.busy": "2025-02-10T18:59:38.717440Z",
          "iopub.execute_input": "2025-02-10T18:59:38.717998Z",
          "iopub.status.idle": "2025-02-10T18:59:38.728045Z",
          "shell.execute_reply.started": "2025-02-10T18:59:38.717923Z",
          "shell.execute_reply": "2025-02-10T18:59:38.726934Z"
        },
        "trusted": true,
        "id": "t7ueX0vGT998",
        "outputId": "3d198daa-2c4c-41a8-c73a-e7bf5bfe14dc"
      },
      "outputs": [
        {
          "execution_count": 100,
          "output_type": "execute_result",
          "data": {
            "text/plain": "array([[65,  3],\n       [ 8, 24]])"
          },
          "metadata": {}
        }
      ],
      "execution_count": null
    },
    {
      "cell_type": "code",
      "source": [
        "# Heatmap of Confusion matrix\n",
        "sns.heatmap(pd.DataFrame(cm), annot=True)"
      ],
      "metadata": {
        "execution": {
          "iopub.status.busy": "2025-02-10T18:59:38.729651Z",
          "iopub.execute_input": "2025-02-10T18:59:38.730012Z",
          "iopub.status.idle": "2025-02-10T18:59:38.957967Z",
          "shell.execute_reply.started": "2025-02-10T18:59:38.729973Z",
          "shell.execute_reply": "2025-02-10T18:59:38.956821Z"
        },
        "trusted": true,
        "id": "wY3SSHgET999",
        "outputId": "31ba277b-09b3-4476-9f1a-98be69a3e7fb"
      },
      "outputs": [
        {
          "execution_count": 101,
          "output_type": "execute_result",
          "data": {
            "text/plain": "<AxesSubplot:>"
          },
          "metadata": {}
        },
        {
          "output_type": "display_data",
          "data": {
            "text/plain": "<Figure size 432x288 with 2 Axes>",
            "image/png": "[encoded data removed]"
          },
          "metadata": {
            "needs_background": "light"
          }
        }
      ],
      "execution_count": null
    }
  ]
}